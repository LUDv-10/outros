{
  "cells": [
    {
      "cell_type": "markdown",
      "metadata": {
        "id": "view-in-github",
        "colab_type": "text"
      },
      "source": [
        "<a href=\"https://colab.research.google.com/github/LUDv-10/Calculadora/blob/main/Ol%C3%A1%2C_este_%C3%A9_o_Colaboratory.ipynb\" target=\"_parent\"><img src=\"https://colab.research.google.com/assets/colab-badge.svg\" alt=\"Open In Colab\"/></a>"
      ]
    },
    {
      "cell_type": "code",
      "source": [
        "Dinheiro = 1000\n",
        "Permissão = True\n",
        "\n",
        "if Dinheiro >= 5000 and Permissão == True:\n",
        "  print(\"Pó comrpar GG\")\n",
        "else:\n",
        "  print(\"Não pode, Se Fudeu kkkk\")"
      ],
      "metadata": {
        "colab": {
          "base_uri": "https://localhost:8080/"
        },
        "id": "Mch_YJyXODBo",
        "outputId": "da225f1a-1821-4400-aa41-25c4f381e88a"
      },
      "execution_count": 10,
      "outputs": [
        {
          "output_type": "stream",
          "name": "stdout",
          "text": [
            "Não pode, Se Fudeu kkkk\n"
          ]
        }
      ]
    },
    {
      "cell_type": "code",
      "source": [
        "Pão = 10\n",
        "Saldo = int(input(\"\"))\n",
        "\n",
        "if Saldo >= Pão:\n",
        "  print(\"Pão comprado\")\n",
        "else:\n",
        "  print(\"Saldo insuficiente\")\n"
      ],
      "metadata": {
        "colab": {
          "base_uri": "https://localhost:8080/"
        },
        "id": "WxIyEpDDQjqx",
        "outputId": "86f28795-bf49-4225-89e5-f2914c5ac0fb"
      },
      "execution_count": 43,
      "outputs": [
        {
          "output_type": "stream",
          "name": "stdout",
          "text": [
            "30\n",
            "Pão comprado\n"
          ]
        }
      ]
    },
    {
      "cell_type": "code",
      "source": [
        "Temperatura = 31\n",
        "\n",
        "if Temperatura >= 28 and Temperatura <= 30:\n",
        "  print(\"Temperatura normal\")\n",
        "elif Temperatura < 20:\n",
        "  print(\"Temperatura Frio\")\n",
        "else:\n",
        "  print(\"Temperatura quente\")"
      ],
      "metadata": {
        "colab": {
          "base_uri": "https://localhost:8080/"
        },
        "id": "zV1ruBueRkKN",
        "outputId": "e418a7a2-a5c4-49d3-f1b8-314037276224"
      },
      "execution_count": 65,
      "outputs": [
        {
          "output_type": "stream",
          "name": "stdout",
          "text": [
            "Temperatura quente\n"
          ]
        }
      ]
    },
    {
      "cell_type": "code",
      "source": [
        "Horario = 2\n",
        "\n",
        "if Horario >= 5 and Horario <= 11:\n",
        "  print(\"Bom dia\")\n",
        "elif Horario >= 12 and Horario <= 17:\n",
        "  print(\"Bom Tarde\")\n",
        "elif Horario >= 18 and Horario <= 24:\n",
        "  print(\"Bom Noite\")\n",
        "else:\n",
        "  print(\"Boa Madrugada\")\n"
      ],
      "metadata": {
        "colab": {
          "base_uri": "https://localhost:8080/"
        },
        "id": "JCENoJqZUGTb",
        "outputId": "7e6fca7d-2048-417f-8137-860b53e19e63"
      },
      "execution_count": 88,
      "outputs": [
        {
          "output_type": "stream",
          "name": "stdout",
          "text": [
            "Boa Madrugada\n"
          ]
        }
      ]
    }
  ],
  "metadata": {
    "colab": {
      "name": "Olá, este é o Colaboratory",
      "provenance": [],
      "include_colab_link": true
    },
    "kernelspec": {
      "display_name": "Python 3",
      "name": "python3"
    }
  },
  "nbformat": 4,
  "nbformat_minor": 0
}